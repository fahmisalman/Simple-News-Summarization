{
 "cells": [
  {
   "cell_type": "code",
   "execution_count": 92,
   "metadata": {},
   "outputs": [],
   "source": [
    "from nltk.corpus import stopwords\n",
    "import re"
   ]
  },
  {
   "cell_type": "code",
   "execution_count": 109,
   "metadata": {},
   "outputs": [],
   "source": [
    "paragraph = '''Like a bowling ball on a skating rink, the black geodesic sphere of the East Greenland Ice-Core Project’s communal living space stands out against the endless white nothingness of the Greenland ice sheet.\n",
    "\n",
    "But the real action at East GRIP is under the surface. Researchers are drilling through more than 2.5 kilometers of ice, down to the bedrock below. The ice is sliding fast — for a glacier — toward the sea. Scientists here want to know why. The answer may hold clues to the future of the world’s coastal cities.\n",
    "\n",
    "Greenland is melting. As it melts, it adds roughly 1 millimeter of water per year to global sea levels. And the pace of melting is quickening.\n",
    "\n",
    "If all the ice covering the world’s largest island were to thaw, sea levels would rise roughly 6 meters. Scientists don’t know how fast, or how likely, that is to happen. East GRIP is looking for evidence to inform both those questions.\n",
    "\n",
    "The answers are a matter of growing urgency. The seas are rising faster. And the same processes at work on Greenland’s glaciers at the top of the world could send vast sections of Antarctica’s ice sheet into the sea as well, raising ocean levels even further.\n",
    "\n",
    " \n",
    "The Arctic is warming twice as fast as the rest of the planet. Scientists studying the rapid changes gather in the small Greenland town of Kangerlussuaq, a former U.S. military base built during World War II. Through the Cold War, this outpost supplied remote radar sites watching for a nuclear attack coming over the pole.\n",
    "\n",
    "These days, military transport planes fly scientists and their equipment across 1,000 kilometers of Arctic ice to East GRIP. They make research possible here and at other far-flung scientific outposts on the vast Greenland ice sheet.\n",
    "\n",
    "Departing from Kangerlussuaq, VOA visited East GRIP and other remote corners of Greenland with the 109th Airlift Wing of the U.S. Air National Guard for a firsthand look at science in action at the leading edge of climate change.'''"
   ]
  },
  {
   "cell_type": "code",
   "execution_count": 110,
   "metadata": {},
   "outputs": [],
   "source": [
    "def sentence_split(paragraph):\n",
    "    j = 0\n",
    "    data = []\n",
    "    for i in range(len(paragraph)):\n",
    "        if paragraph[i] == '.':\n",
    "            data += (list(filter(None, paragraph[j:i].rsplit('\\n'))))\n",
    "            j = i + 1\n",
    "    return data"
   ]
  },
  {
   "cell_type": "code",
   "execution_count": 111,
   "metadata": {},
   "outputs": [],
   "source": [
    "def casefolding(sentence):\n",
    "    sentence = sentence.lower()\n",
    "    sentence = re.sub(r'[^a-z]', ' ', re.sub(\"’\", '', sentence))\n",
    "    return sentence\n",
    "\n",
    "def tokenization(sentence):\n",
    "    return sentence.split()\n",
    "\n",
    "def stopword_removal(token):\n",
    "    stopWords = set(stopwords.words('english'))\n",
    "    wordsFiltered = []\n",
    "    for w in token:\n",
    "        if w not in stopWords:\n",
    "            wordsFiltered.append(w)\n",
    "    return wordsFiltered"
   ]
  },
  {
   "cell_type": "code",
   "execution_count": 112,
   "metadata": {},
   "outputs": [],
   "source": [
    "sentence_list = sentence_split(paragraph)\n",
    "data = []\n",
    "for i in range(len(sentence_list)):\n",
    "    data.append(stopword_removal(tokenization(casefolding(sentence_list[i]))))\n",
    "data = (list(filter(None, sentence_list)))\n",
    "\n",
    "def word_freq(data):\n",
    "    w = []\n",
    "    for sentence in data:\n",
    "        for words in sentence:\n",
    "            w.append(words)\n",
    "    bag = list(set(w))\n",
    "    res = {}\n",
    "    for word in bag:\n",
    "        res[word] = w.count(word)\n",
    "    return res"
   ]
  },
  {
   "cell_type": "code",
   "execution_count": 113,
   "metadata": {},
   "outputs": [
    {
     "name": "stdout",
     "output_type": "stream",
     "text": [
      "Like a bowling ball on a skating rink, the black geodesic sphere of the East Greenland Ice-Core Project’s communal living space stands out against the endless white nothingness of the Greenland ice sheet.  And the same processes at work on Greenland’s glaciers at the top of the world could send vast sections of Antarctica’s ice sheet into the sea as well, raising ocean levels even further. Departing from Kangerlussuaq, VOA visited East GRIP and other remote corners of Greenland with the 109th Airlift Wing of the U. "
     ]
    }
   ],
   "source": [
    "wordfreq = word_freq(data)\n",
    "\n",
    "ranking = []\n",
    "for words in data:\n",
    "    temp = 0\n",
    "    for word in words:\n",
    "        temp += wordfreq[word]\n",
    "    ranking.append(temp)\n",
    "\n",
    "sortList = sorted(range(len(ranking)),key=ranking.__getitem__, reverse=True)\n",
    "n = 3\n",
    "for i in range(n):\n",
    "    print('{}.'.format(sentence_list[sortList[i]]), end=' ')"
   ]
  },
  {
   "cell_type": "code",
   "execution_count": null,
   "metadata": {},
   "outputs": [],
   "source": []
  }
 ],
 "metadata": {
  "kernelspec": {
   "display_name": "Python 3",
   "language": "python",
   "name": "python3"
  },
  "language_info": {
   "codemirror_mode": {
    "name": "ipython",
    "version": 3
   },
   "file_extension": ".py",
   "mimetype": "text/x-python",
   "name": "python",
   "nbconvert_exporter": "python",
   "pygments_lexer": "ipython3",
   "version": "3.6.6"
  }
 },
 "nbformat": 4,
 "nbformat_minor": 2
}
